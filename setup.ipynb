{
 "cells": [
  {
   "cell_type": "code",
   "execution_count": 4,
   "metadata": {},
   "outputs": [
    {
     "data": {
      "text/plain": [
       "CompletedProcess(args=['python', 'hover_net-master/run_infer.py', '--gpu=0', '--nr_types=6', '--type_info_path=type_info_pannuke.json', '--model_mode=fast', '--model_path=models/hovernet_fast_pannuke.tar', '--input_dir=HE_old_40x', '--output_dir=output', '--save_qupath'], returncode=2)"
      ]
     },
     "execution_count": 4,
     "metadata": {},
     "output_type": "execute_result"
    }
   ],
   "source": [
    "import os\n",
    "import subprocess\n",
    "\n",
    "# Define paths\n",
    "hovernet_script = 'hover_net-master/run_infer.py'\n",
    "gpu = 0\n",
    "nr_types = 6\n",
    "type_info_path = 'type_info_pannuke.json'\n",
    "model_mode = 'fast'\n",
    "model_path = 'models/hovernet_fast_pannuke.tar'\n",
    "input_dir = 'HE_old_40x'\n",
    "output_dir = 'output'\n",
    "\n",
    "# Create output directory if it doesn't exist\n",
    "os.makedirs(output_dir, exist_ok=True)\n",
    "\n",
    "# Construct the command\n",
    "command = [\n",
    "    'python', hovernet_script,\n",
    "    f'--gpu={gpu}',\n",
    "    f'--nr_types={nr_types}',\n",
    "    f'--type_info_path={type_info_path}',\n",
    "    f'--model_mode={model_mode}',\n",
    "    f'--model_path={model_path}',\n",
    "    f'--input_dir={input_dir}',\n",
    "    f'--output_dir={output_dir}',\n",
    "    '--save_qupath'\n",
    "]\n",
    "\n",
    "# Run the command\n",
    "subprocess.run(command)\n"
   ]
  }
 ],
 "metadata": {
  "kernelspec": {
   "display_name": "base",
   "language": "python",
   "name": "python3"
  },
  "language_info": {
   "codemirror_mode": {
    "name": "ipython",
    "version": 3
   },
   "file_extension": ".py",
   "mimetype": "text/x-python",
   "name": "python",
   "nbconvert_exporter": "python",
   "pygments_lexer": "ipython3",
   "version": "3.11.7"
  }
 },
 "nbformat": 4,
 "nbformat_minor": 2
}
